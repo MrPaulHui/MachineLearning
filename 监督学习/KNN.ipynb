{
 "cells": [
  {
   "cell_type": "code",
   "execution_count": 5,
   "metadata": {},
   "outputs": [],
   "source": [
    "import numpy as np"
   ]
  },
  {
   "cell_type": "code",
   "execution_count": 121,
   "metadata": {},
   "outputs": [],
   "source": [
    "class KDTreeNode:\n",
    "    def __init__(self, data, split_axis, father):\n",
    "        self.data = data\n",
    "        self.split_axis = split_axis\n",
    "        self.father = father\n",
    "        self.left = None\n",
    "        self.right = None\n",
    "        self.dist = float('inf')\n",
    "    @property\n",
    "    def mate(self):\n",
    "        if not self.father:\n",
    "            return None\n",
    "        if self.father.left == self:\n",
    "            return self.father.right\n",
    "        else:\n",
    "            return self.father.left\n",
    "    def __lt__(self, other):\n",
    "        return self.dist < other.dist"
   ]
  },
  {
   "cell_type": "code",
   "execution_count": 128,
   "metadata": {},
   "outputs": [],
   "source": [
    "class KNN:\n",
    "    def __init__(self, use_kdtree=True, np_dataset=False):\n",
    "        self.use_kdtree = use_kdtree\n",
    "        self.np_dataset = np_dataset\n",
    "    def train(self, dataset):\n",
    "        if self.use_kdtree:\n",
    "            if self.np_dataset:\n",
    "                self.create_kdtree_np(dataset)\n",
    "            else:\n",
    "                self.create_kdtree(dataset)\n",
    "        else:\n",
    "            self.dataset = dataset\n",
    "    def test(self, query_data, k):\n",
    "        self.k = k\n",
    "        if self.use_kdtree:\n",
    "            if self.k == 1:\n",
    "                return self.kdtree_search_nearest(query_data)\n",
    "            return self.kdtree_search(query_data)\n",
    "        else:\n",
    "            return self.scan_search(query_data)\n",
    "    def create_kdtree_np(self, dataset):\n",
    "        def dfs(dataset, split_axis, father):\n",
    "            if not dataset.size:\n",
    "                return None\n",
    "            lens = len(dataset)\n",
    "            dataset = dataset[dataset[:, split_axis].argsort()]\n",
    "            split_idx = lens//2\n",
    "            split_data = dataset[split_idx]\n",
    "            left_dataset = dataset[:split_idx]\n",
    "            right_dataset = dataset[split_idx+1:]\n",
    "            root = KDTreeNode(split_data, split_axis, father)\n",
    "            root.left = dfs(left_dataset, (split_axis+1)%len(dataset[0]), root)\n",
    "            root.right = dfs(right_dataset, (split_axis+1)%len(dataset[0]), root)\n",
    "            return root\n",
    "        root = dfs(dataset, 0, None)\n",
    "        self.kdtree = root\n",
    "    def create_kdtree(self, dataset):\n",
    "        def dfs(dataset, split_axis, father):\n",
    "            if not dataset:\n",
    "                return None\n",
    "            lens = len(dataset)\n",
    "            dataset.sort(key=lambda x:x[split_axis])\n",
    "            split_idx = lens//2\n",
    "            split_data = dataset[split_idx]\n",
    "            left_dataset = dataset[:split_idx]\n",
    "            right_dataset = dataset[split_idx+1:]\n",
    "            root = KDTreeNode(split_data, split_axis, father)\n",
    "            root.left = dfs(left_dataset, (split_axis+1)%len(dataset[0]), root)\n",
    "            root.right = dfs(right_dataset, (split_axis+1)%len(dataset[0]), root)\n",
    "            return root\n",
    "        root = dfs(dataset, 0, None)\n",
    "        self.kdtree = root\n",
    "    def distance(self, a, b, dist_type='l2'):\n",
    "        if dist_type == 'l2':\n",
    "            if self.np_dataset:\n",
    "                return np.sum((a-b)**2)\n",
    "            if not isinstance(a, (list, tuple)):\n",
    "                a = [a]\n",
    "                b = [b]\n",
    "            return sum([(i-j)**2 for (i, j) in zip(a, b)])\n",
    "    def scan_search(self, query_data):\n",
    "        dist_map = [(data, self.distance(query_data, data)) for data in self.dataset]\n",
    "        dist_map.sort(key=lambda x:x[1])\n",
    "        return [item[0] for item in dist_map[:self.k]]\n",
    "    def kdtree_search(self, query_data):\n",
    "        import heapq\n",
    "        heap = []\n",
    "        def dfs(root, query_data):\n",
    "            if not root.left and not root.right:\n",
    "                nearest = root\n",
    "                min_dist = self.distance(root.data, query_data)\n",
    "                return (nearest, min_dist)\n",
    "            split_axis = root.split_axis\n",
    "            if query_data[split_axis] < root.data[split_axis]:\n",
    "                if root.left:\n",
    "                    return dfs(root.left, query_data)\n",
    "                else:\n",
    "                    return dfs(root.right, query_data)\n",
    "            else:\n",
    "                if root.right:\n",
    "                    return dfs(root.right, query_data)\n",
    "                else:\n",
    "                    return dfs(root.left, query_data)\n",
    "        def region_search(root, query_data):\n",
    "            nearest, max_min_dist = dfs(root, query_data)\n",
    "            node = nearest\n",
    "            while True:\n",
    "                curr_dist = self.distance(node.data, query_data)\n",
    "                node.dist = -curr_dist\n",
    "                if len(heap) < self.k:\n",
    "                    heapq.heappush(heap, node)\n",
    "                else:\n",
    "                    if heapq.nsmallest(1, heap)[0].dist < -curr_dist:\n",
    "                        heapq.heapreplace(heap, node)\n",
    "                if node == root:\n",
    "                    break\n",
    "                father = node.father\n",
    "                plane_dist = self.distance(father.data[father.split_axis], query_data[father.split_axis]) #查询点和超平面的距离\n",
    "                if (len(heap) < self.k or plane_dist < max_min_dist) and node.mate:\n",
    "                    region_search(node.mate, query_data)\n",
    "                node = node.father\n",
    "        region_search(self.kdtree, query_data)\n",
    "        return [item.data for item in heap]\n",
    "    def kdtree_search_nearest(self, query_data):\n",
    "        #最近邻搜索\n",
    "        def dfs(root, query_data):\n",
    "            if not root.left and not root.right:\n",
    "                nearest = root\n",
    "                min_dist = self.distance(root.data, query_data)\n",
    "                return (nearest, min_dist)\n",
    "            split_axis = root.split_axis\n",
    "            if query_data[split_axis] < root.data[split_axis]:\n",
    "                if root.left:\n",
    "                    return dfs(root.left, query_data)\n",
    "                else:\n",
    "                    return dfs(root.right, query_data)\n",
    "            else:\n",
    "                if root.right:\n",
    "                    return dfs(root.right, query_data)\n",
    "                else:\n",
    "                    return dfs(root.left, query_data)\n",
    "        def region_search(root, query_data):\n",
    "            nearest, min_dist = dfs(root, query_data)\n",
    "            node = nearest\n",
    "            while True:\n",
    "                curr_dist = self.distance(node.data, query_data)\n",
    "                if curr_dist < min_dist:\n",
    "                    nearest = node\n",
    "                    min_dist = curr_dist\n",
    "                if node == root:\n",
    "                    break\n",
    "                father = node.father\n",
    "                plane_dist = self.distance(father.data[father.split_axis], query_data[father.split_axis]) #查询点和超平面的距离\n",
    "                if plane_dist < min_dist and node.mate:\n",
    "                    mate_nearest, mate_mindist = region_search(node.mate, query_data)\n",
    "                    if mate_mindist < min_dist:\n",
    "                        min_dist = mate_mindist\n",
    "                        nearest = mate_nearest\n",
    "                node = node.father\n",
    "            return nearest, min_dist\n",
    "        self.nearest, _ = region_search(self.kdtree, query_data)\n",
    "        return self.nearest.data"
   ]
  },
  {
   "cell_type": "code",
   "execution_count": 129,
   "metadata": {},
   "outputs": [],
   "source": [
    "knn1 = KNN(np_dataset=True)\n",
    "knn2 = KNN(np_dataset=True, use_kdtree=False)"
   ]
  },
  {
   "cell_type": "code",
   "execution_count": 130,
   "metadata": {},
   "outputs": [
    {
     "name": "stdout",
     "output_type": "stream",
     "text": [
      "[array([0.28050092, 0.32473445, 0.41601298, 0.66665668]), array([0.71771779, 0.40721258, 0.45705213, 0.72531417]), array([0.51532176, 0.35700408, 0.35264483, 0.68879033]), array([0.23581586, 0.43221634, 0.63873245, 0.52189906])]\n",
      "[array([0.51532176, 0.35700408, 0.35264483, 0.68879033]), array([0.23581586, 0.43221634, 0.63873245, 0.52189906]), array([0.71771779, 0.40721258, 0.45705213, 0.72531417]), array([0.28050092, 0.32473445, 0.41601298, 0.66665668])]\n"
     ]
    }
   ],
   "source": [
    "for _ in range(1):\n",
    "    dataset_np = np.random.rand(128).reshape(32,4)\n",
    "    knn1.train(dataset_np)\n",
    "    knn2.train(dataset_np)\n",
    "    node1 = knn1.test(np.array([0.5,0.5,0.5,0.5]), 4)\n",
    "    node2 = knn2.test(np.array([0.5,0.5,0.5,0.5]), 4)\n",
    "    print(node1)\n",
    "    print(node2)"
   ]
  },
  {
   "cell_type": "code",
   "execution_count": 135,
   "metadata": {},
   "outputs": [],
   "source": [
    "a = np.random.rand(40000).reshape(10000,4)"
   ]
  },
  {
   "cell_type": "code",
   "execution_count": 132,
   "metadata": {},
   "outputs": [],
   "source": [
    "import time"
   ]
  },
  {
   "cell_type": "code",
   "execution_count": 136,
   "metadata": {},
   "outputs": [
    {
     "name": "stdout",
     "output_type": "stream",
     "text": [
      "[array([0.51826398, 0.55013395, 0.56642872, 0.51797208]), array([0.48096842, 0.49805931, 0.42931577, 0.54564063]), array([0.52429017, 0.54667381, 0.44003482, 0.51805642]), array([0.51620391, 0.55687684, 0.44156029, 0.47703573])]\n",
      "0.12363815307617188\n"
     ]
    }
   ],
   "source": [
    "stime = time.time()\n",
    "knn1.train(a)\n",
    "node1 = knn1.test(np.array([0.5,0.5,0.5,0.5]), 4)\n",
    "etime = time.time()\n",
    "print(node1)\n",
    "print(etime-stime)"
   ]
  },
  {
   "cell_type": "code",
   "execution_count": 137,
   "metadata": {},
   "outputs": [
    {
     "name": "stdout",
     "output_type": "stream",
     "text": [
      "[array([0.52429017, 0.54667381, 0.44003482, 0.51805642]), array([0.51620391, 0.55687684, 0.44156029, 0.47703573]), array([0.48096842, 0.49805931, 0.42931577, 0.54564063]), array([0.51826398, 0.55013395, 0.56642872, 0.51797208])]\n",
      "0.07579922676086426\n"
     ]
    }
   ],
   "source": [
    "stime = time.time()\n",
    "knn2.train(a)\n",
    "node1 = knn2.test(np.array([0.5,0.5,0.5,0.5]), 4)\n",
    "etime = time.time()\n",
    "print(node1)\n",
    "print(etime-stime)"
   ]
  },
  {
   "cell_type": "code",
   "execution_count": null,
   "metadata": {},
   "outputs": [],
   "source": []
  }
 ],
 "metadata": {
  "kernelspec": {
   "display_name": "Python 3",
   "language": "python",
   "name": "python3"
  },
  "language_info": {
   "codemirror_mode": {
    "name": "ipython",
    "version": 3
   },
   "file_extension": ".py",
   "mimetype": "text/x-python",
   "name": "python",
   "nbconvert_exporter": "python",
   "pygments_lexer": "ipython3",
   "version": "3.7.1"
  }
 },
 "nbformat": 4,
 "nbformat_minor": 2
}
